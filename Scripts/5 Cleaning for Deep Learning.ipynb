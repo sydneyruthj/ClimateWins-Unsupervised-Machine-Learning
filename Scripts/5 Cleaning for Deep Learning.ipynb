{
 "cells": [
  {
   "cell_type": "markdown",
   "id": "016634b0-4de7-4254-af35-6faa6a1dacb7",
   "metadata": {},
   "source": [
    "# 2.5 Cleaning for Deep Learning\n",
    "\n",
    "## Contents\n",
    "### 1. Import libraries and Data\n",
    "### 2. Removing Unnecessary Columns\n",
    "### 3. Finding Missing Values\n",
    "### 4. Adding 3 Missing Columns\n",
    "### 5. Exporting Data"
   ]
  },
  {
   "cell_type": "markdown",
   "id": "9f456d4f-71c6-46bf-b427-4a1afe3da45d",
   "metadata": {},
   "source": [
    "## 1. Import Libraries and Data"
   ]
  },
  {
   "cell_type": "code",
   "execution_count": 1,
   "id": "edbabe44-fd4e-4130-936d-107b4375f234",
   "metadata": {},
   "outputs": [],
   "source": [
    "# Import Libraries\n",
    "import pandas as pd\n",
    "import numpy as np\n",
    "import os\n",
    "import matplotlib.pyplot as plt\n",
    "import seaborn as sns\n",
    "import scipy"
   ]
  },
  {
   "cell_type": "code",
   "execution_count": 3,
   "id": "60a45095-2059-426f-bd54-74fdce74b0bb",
   "metadata": {},
   "outputs": [],
   "source": [
    "#Create a path to where your data is stored.\n",
    "path = r'/Users/sydneyjohnson/Documents/CF Data Analytics Course/11-2024 ClimateWins Analysis/02 Data'"
   ]
  },
  {
   "cell_type": "code",
   "execution_count": 5,
   "id": "c08079e9-31c9-4c98-b210-4d53438ac086",
   "metadata": {},
   "outputs": [],
   "source": [
    "dfc = pd.read_csv(os.path.join(path, 'Dataset-weather-prediction-dataset-processed.csv'))"
   ]
  },
  {
   "cell_type": "code",
   "execution_count": 7,
   "id": "41a0b55d-6f78-4716-87f8-d122640d3708",
   "metadata": {},
   "outputs": [],
   "source": [
    "dfp = pd.read_csv(os.path.join(path, 'Dataset-Answers-Weather_Prediction_Pleasant_Weather.csv'))"
   ]
  },
  {
   "cell_type": "markdown",
   "id": "1596e594-1bf7-400b-97b5-5d40dbc01792",
   "metadata": {},
   "source": [
    "## 2. Removing Unnecessary Columns"
   ]
  },
  {
   "cell_type": "code",
   "execution_count": 15,
   "id": "943e55a1-37c6-41d1-94f7-428ebe3f8c06",
   "metadata": {},
   "outputs": [
    {
     "name": "stdout",
     "output_type": "stream",
     "text": [
      "['DATE', 'MONTH', 'BASEL_cloud_cover', 'BASEL_wind_speed', 'BASEL_humidity', 'BASEL_pressure', 'BASEL_global_radiation', 'BASEL_precipitation', 'BASEL_snow_depth', 'BASEL_sunshine', 'BASEL_temp_mean', 'BASEL_temp_min', 'BASEL_temp_max', 'BELGRADE_cloud_cover', 'BELGRADE_humidity', 'BELGRADE_pressure', 'BELGRADE_global_radiation', 'BELGRADE_precipitation', 'BELGRADE_sunshine', 'BELGRADE_temp_mean', 'BELGRADE_temp_min', 'BELGRADE_temp_max', 'BUDAPEST_cloud_cover', 'BUDAPEST_humidity', 'BUDAPEST_pressure', 'BUDAPEST_global_radiation', 'BUDAPEST_precipitation', 'BUDAPEST_sunshine', 'BUDAPEST_temp_mean', 'BUDAPEST_temp_min', 'BUDAPEST_temp_max', 'DEBILT_cloud_cover', 'DEBILT_wind_speed', 'DEBILT_humidity', 'DEBILT_pressure', 'DEBILT_global_radiation', 'DEBILT_precipitation', 'DEBILT_sunshine', 'DEBILT_temp_mean', 'DEBILT_temp_min', 'DEBILT_temp_max', 'DUSSELDORF_cloud_cover', 'DUSSELDORF_wind_speed', 'DUSSELDORF_humidity', 'DUSSELDORF_pressure', 'DUSSELDORF_global_radiation', 'DUSSELDORF_precipitation', 'DUSSELDORF_snow_depth', 'DUSSELDORF_sunshine', 'DUSSELDORF_temp_mean', 'DUSSELDORF_temp_min', 'DUSSELDORF_temp_max', 'GDANSK_cloud_cover', 'GDANSK_humidity', 'GDANSK_precipitation', 'GDANSK_snow_depth', 'GDANSK_temp_mean', 'GDANSK_temp_min', 'GDANSK_temp_max', 'HEATHROW_cloud_cover', 'HEATHROW_humidity', 'HEATHROW_pressure', 'HEATHROW_global_radiation', 'HEATHROW_precipitation', 'HEATHROW_snow_depth', 'HEATHROW_sunshine', 'HEATHROW_temp_mean', 'HEATHROW_temp_min', 'HEATHROW_temp_max', 'KASSEL_wind_speed', 'KASSEL_humidity', 'KASSEL_pressure', 'KASSEL_global_radiation', 'KASSEL_precipitation', 'KASSEL_sunshine', 'KASSEL_temp_mean', 'KASSEL_temp_min', 'KASSEL_temp_max', 'LJUBLJANA_cloud_cover', 'LJUBLJANA_wind_speed', 'LJUBLJANA_humidity', 'LJUBLJANA_pressure', 'LJUBLJANA_global_radiation', 'LJUBLJANA_precipitation', 'LJUBLJANA_sunshine', 'LJUBLJANA_temp_mean', 'LJUBLJANA_temp_min', 'LJUBLJANA_temp_max', 'MAASTRICHT_cloud_cover', 'MAASTRICHT_wind_speed', 'MAASTRICHT_humidity', 'MAASTRICHT_pressure', 'MAASTRICHT_global_radiation', 'MAASTRICHT_precipitation', 'MAASTRICHT_sunshine', 'MAASTRICHT_temp_mean', 'MAASTRICHT_temp_min', 'MAASTRICHT_temp_max', 'MADRID_cloud_cover', 'MADRID_wind_speed', 'MADRID_humidity', 'MADRID_pressure', 'MADRID_global_radiation', 'MADRID_precipitation', 'MADRID_sunshine', 'MADRID_temp_mean', 'MADRID_temp_min', 'MADRID_temp_max', 'MUNCHENB_cloud_cover', 'MUNCHENB_humidity', 'MUNCHENB_global_radiation', 'MUNCHENB_precipitation', 'MUNCHENB_snow_depth', 'MUNCHENB_sunshine', 'MUNCHENB_temp_mean', 'MUNCHENB_temp_min', 'MUNCHENB_temp_max', 'OSLO_cloud_cover', 'OSLO_wind_speed', 'OSLO_humidity', 'OSLO_pressure', 'OSLO_global_radiation', 'OSLO_precipitation', 'OSLO_snow_depth', 'OSLO_sunshine', 'OSLO_temp_mean', 'OSLO_temp_min', 'OSLO_temp_max', 'ROMA_cloud_cover', 'ROMA_wind_speed', 'ROMA_humidity', 'ROMA_pressure', 'ROMA_sunshine', 'ROMA_temp_mean', 'SONNBLICK_cloud_cover', 'SONNBLICK_wind_speed', 'SONNBLICK_humidity', 'SONNBLICK_pressure', 'SONNBLICK_global_radiation', 'SONNBLICK_precipitation', 'SONNBLICK_sunshine', 'SONNBLICK_temp_mean', 'SONNBLICK_temp_min', 'SONNBLICK_temp_max', 'STOCKHOLM_cloud_cover', 'STOCKHOLM_pressure', 'STOCKHOLM_global_radiation', 'STOCKHOLM_precipitation', 'STOCKHOLM_sunshine', 'STOCKHOLM_temp_mean', 'STOCKHOLM_temp_min', 'STOCKHOLM_temp_max', 'TOURS_wind_speed', 'TOURS_humidity', 'TOURS_pressure', 'TOURS_global_radiation', 'TOURS_precipitation', 'TOURS_temp_mean', 'TOURS_temp_min', 'TOURS_temp_max', 'VALENTIA_cloud_cover', 'VALENTIA_humidity', 'VALENTIA_pressure', 'VALENTIA_global_radiation', 'VALENTIA_precipitation', 'VALENTIA_snow_depth', 'VALENTIA_sunshine', 'VALENTIA_temp_mean', 'VALENTIA_temp_min', 'VALENTIA_temp_max']\n"
     ]
    }
   ],
   "source": [
    "# Set the option to display all columns\n",
    "pd.set_option('display.max_columns', None)\n",
    "print(dfc.columns.tolist())"
   ]
  },
  {
   "cell_type": "code",
   "execution_count": 145,
   "id": "e028ac16-fb6b-4e49-b1f1-338781547fb1",
   "metadata": {},
   "outputs": [],
   "source": [
    "# Drop columns that contain either 'TOURS', 'ROMA', or 'GANDSK' in their name\n",
    "dfc2 = dfc.loc[:, ~dfc.columns.str.contains('TOURS|ROMA|GDANSK', case=False)]"
   ]
  },
  {
   "cell_type": "code",
   "execution_count": 29,
   "id": "b3242cac-d544-406b-ab43-eacd231ad25d",
   "metadata": {},
   "outputs": [],
   "source": [
    "dfc3 = dfc2.drop(columns = ['DATE', 'MONTH'])"
   ]
  },
  {
   "cell_type": "code",
   "execution_count": 31,
   "id": "404731a5-8334-41bb-84fb-83222c0d4bb4",
   "metadata": {},
   "outputs": [
    {
     "data": {
      "text/plain": [
       "(22950, 147)"
      ]
     },
     "execution_count": 31,
     "metadata": {},
     "output_type": "execute_result"
    }
   ],
   "source": [
    "dfc3.shape"
   ]
  },
  {
   "cell_type": "markdown",
   "id": "ce30ba72-d896-4136-9f3f-884fe2ca49b0",
   "metadata": {},
   "source": [
    "## 3. Finding Missing Values and Removing Columns"
   ]
  },
  {
   "cell_type": "code",
   "execution_count": 85,
   "id": "e37d7cff-6143-427b-ab84-de853e9e2d1e",
   "metadata": {},
   "outputs": [
    {
     "name": "stdout",
     "output_type": "stream",
     "text": [
      "{'cloud_cover': ['BASEL_cloud_cover', 'BELGRADE_cloud_cover', 'BUDAPEST_cloud_cover', 'DEBILT_cloud_cover', 'DUSSELDORF_cloud_cover', 'HEATHROW_cloud_cover', 'LJUBLJANA_cloud_cover', 'MAASTRICHT_cloud_cover', 'MADRID_cloud_cover', 'MUNCHENB_cloud_cover', 'OSLO_cloud_cover', 'SONNBLICK_cloud_cover', 'STOCKHOLM_cloud_cover', 'VALENTIA_cloud_cover'], 'wind_speed': ['BASEL_wind_speed', 'DEBILT_wind_speed', 'DUSSELDORF_wind_speed', 'KASSEL_wind_speed', 'LJUBLJANA_wind_speed', 'MAASTRICHT_wind_speed', 'MADRID_wind_speed', 'OSLO_wind_speed', 'SONNBLICK_wind_speed'], 'humidity': ['BASEL_humidity', 'BELGRADE_humidity', 'BUDAPEST_humidity', 'DEBILT_humidity', 'DUSSELDORF_humidity', 'HEATHROW_humidity', 'KASSEL_humidity', 'LJUBLJANA_humidity', 'MAASTRICHT_humidity', 'MADRID_humidity', 'MUNCHENB_humidity', 'OSLO_humidity', 'SONNBLICK_humidity', 'VALENTIA_humidity'], 'pressure': ['BASEL_pressure', 'BELGRADE_pressure', 'BUDAPEST_pressure', 'DEBILT_pressure', 'DUSSELDORF_pressure', 'HEATHROW_pressure', 'KASSEL_pressure', 'LJUBLJANA_pressure', 'MAASTRICHT_pressure', 'MADRID_pressure', 'OSLO_pressure', 'SONNBLICK_pressure', 'STOCKHOLM_pressure', 'VALENTIA_pressure'], 'global_radiation': ['BASEL_global_radiation', 'BELGRADE_global_radiation', 'BUDAPEST_global_radiation', 'DEBILT_global_radiation', 'DUSSELDORF_global_radiation', 'HEATHROW_global_radiation', 'KASSEL_global_radiation', 'LJUBLJANA_global_radiation', 'MAASTRICHT_global_radiation', 'MADRID_global_radiation', 'MUNCHENB_global_radiation', 'OSLO_global_radiation', 'SONNBLICK_global_radiation', 'STOCKHOLM_global_radiation', 'VALENTIA_global_radiation'], 'precipitation': ['BASEL_precipitation', 'BELGRADE_precipitation', 'BUDAPEST_precipitation', 'DEBILT_precipitation', 'DUSSELDORF_precipitation', 'HEATHROW_precipitation', 'KASSEL_precipitation', 'LJUBLJANA_precipitation', 'MAASTRICHT_precipitation', 'MADRID_precipitation', 'MUNCHENB_precipitation', 'OSLO_precipitation', 'SONNBLICK_precipitation', 'STOCKHOLM_precipitation', 'VALENTIA_precipitation'], 'snow_depth': ['BASEL_snow_depth', 'DUSSELDORF_snow_depth', 'HEATHROW_snow_depth', 'MUNCHENB_snow_depth', 'OSLO_snow_depth', 'VALENTIA_snow_depth'], 'sunshine': ['BASEL_sunshine', 'BELGRADE_sunshine', 'BUDAPEST_sunshine', 'DEBILT_sunshine', 'DUSSELDORF_sunshine', 'HEATHROW_sunshine', 'KASSEL_sunshine', 'LJUBLJANA_sunshine', 'MAASTRICHT_sunshine', 'MADRID_sunshine', 'MUNCHENB_sunshine', 'OSLO_sunshine', 'SONNBLICK_sunshine', 'STOCKHOLM_sunshine', 'VALENTIA_sunshine']}\n"
     ]
    }
   ],
   "source": [
    "# Define the types of columns you are interested in\n",
    "column_types = ['cloud_cover', 'wind_speed', 'humidity', 'pressure',\n",
    "                'global_radiation', 'precipitation', 'snow_depth', 'sunshine']\n",
    "\n",
    "# Create a dictionary to group columns by their types\n",
    "grouped_columns = {column_type: [col for col in dfc3.columns if column_type in col] \n",
    "                   for column_type in column_types}\n",
    "\n",
    "# Show the grouped columns\n",
    "print(grouped_columns)"
   ]
  },
  {
   "cell_type": "code",
   "execution_count": 87,
   "id": "ab3e345a-7039-4d4d-9470-96c4b1c3b22d",
   "metadata": {},
   "outputs": [
    {
     "name": "stdout",
     "output_type": "stream",
     "text": [
      "{'cloud_cover': 15657, 'wind_speed': 1872, 'humidity': 0, 'pressure': 0, 'global_radiation': 105, 'precipitation': 176989, 'snow_depth': 123801, 'sunshine': 65130}\n"
     ]
    }
   ],
   "source": [
    "# Create a dictionary to store the count of missing values for each group\n",
    "missing_data = {}\n",
    "\n",
    "# Loop through each group and count the missing values (NaN or 0)\n",
    "for column_type, columns in grouped_columns.items():\n",
    "    # Count NaN or 0 values in each column for the given type\n",
    "    missing_count = (dfc3[columns] == 0).sum().sum() + dfc3[columns].isnull().sum().sum()\n",
    "    missing_data[column_type] = missing_count\n",
    "\n",
    "# Show the missing data count per type\n",
    "print(missing_data)"
   ]
  },
  {
   "cell_type": "code",
   "execution_count": 89,
   "id": "5ca6b777-5f8c-4e0e-b560-e18e4d93d76e",
   "metadata": {},
   "outputs": [
    {
     "name": "stdout",
     "output_type": "stream",
     "text": [
      "{'cloud_cover': 14, 'wind_speed': 9, 'humidity': 14, 'pressure': 14, 'global_radiation': 15, 'precipitation': 15, 'snow_depth': 6, 'sunshine': 15}\n"
     ]
    }
   ],
   "source": [
    "# Show the size (number of columns) of each group\n",
    "group_sizes = {column_type: len(columns) for column_type, columns in grouped_columns.items()}\n",
    "\n",
    "# Display the group sizes\n",
    "print(group_sizes)"
   ]
  },
  {
   "cell_type": "code",
   "execution_count": 93,
   "id": "9388beab-4f15-494a-b3e1-c4777edf6393",
   "metadata": {},
   "outputs": [
    {
     "data": {
      "text/plain": [
       "Index(['BASEL_wind_speed', 'BASEL_snow_depth', 'DEBILT_wind_speed',\n",
       "       'DUSSELDORF_wind_speed', 'DUSSELDORF_snow_depth', 'HEATHROW_snow_depth',\n",
       "       'KASSEL_wind_speed', 'LJUBLJANA_wind_speed', 'MAASTRICHT_wind_speed',\n",
       "       'MADRID_wind_speed', 'MUNCHENB_snow_depth', 'OSLO_wind_speed',\n",
       "       'OSLO_snow_depth', 'SONNBLICK_wind_speed', 'VALENTIA_snow_depth'],\n",
       "      dtype='object')"
      ]
     },
     "execution_count": 93,
     "metadata": {},
     "output_type": "execute_result"
    }
   ],
   "source": [
    "# Drop snow_depth and wind_speed\n",
    "columns_to_drop = dfc3.filter(regex='(_wind_speed|_snow_depth)$').columns\n",
    "columns_to_drop"
   ]
  },
  {
   "cell_type": "code",
   "execution_count": 95,
   "id": "7c73484e-a908-43ec-ab5a-8e4a18ecf684",
   "metadata": {},
   "outputs": [],
   "source": [
    "dfc4 = dfc3.drop(columns=columns_to_drop)"
   ]
  },
  {
   "cell_type": "code",
   "execution_count": 97,
   "id": "54587b01-325d-4ef9-b98d-ba074bb400ae",
   "metadata": {},
   "outputs": [
    {
     "data": {
      "text/plain": [
       "(22950, 132)"
      ]
     },
     "execution_count": 97,
     "metadata": {},
     "output_type": "execute_result"
    }
   ],
   "source": [
    "dfc4.shape"
   ]
  },
  {
   "cell_type": "markdown",
   "id": "7a3a431c-6f41-46ac-bfbe-6a9fd6edf843",
   "metadata": {},
   "source": [
    "## 4. Adding 3 missing Columns"
   ]
  },
  {
   "cell_type": "code",
   "execution_count": 102,
   "id": "15808be1-1701-41d5-b85e-2727883e8a94",
   "metadata": {},
   "outputs": [
    {
     "data": {
      "text/plain": [
       "{'BASEL',\n",
       " 'BELGRADE',\n",
       " 'BUDAPEST',\n",
       " 'DEBILT',\n",
       " 'DUSSELDORF',\n",
       " 'HEATHROW',\n",
       " 'KASSEL',\n",
       " 'LJUBLJANA',\n",
       " 'MAASTRICHT',\n",
       " 'MADRID',\n",
       " 'MUNCHENB',\n",
       " 'OSLO',\n",
       " 'SONNBLICK',\n",
       " 'STOCKHOLM',\n",
       " 'VALENTIA'}"
      ]
     },
     "execution_count": 102,
     "metadata": {},
     "output_type": "execute_result"
    }
   ],
   "source": [
    "# Create a list of all unique station names in the dataset\n",
    "\n",
    "all_stations = set([col.split('_')[0] for col in dfc4.columns if '_' in col])\n",
    "all_stations"
   ]
  },
  {
   "cell_type": "code",
   "execution_count": 104,
   "id": "58df74a1-9dd0-408b-8349-34fd9c4b88ad",
   "metadata": {},
   "outputs": [
    {
     "name": "stdout",
     "output_type": "stream",
     "text": [
      "\n",
      "Stations missing from cloud_cover:\n",
      "KASSEL\n",
      "\n",
      "Stations missing from humidity:\n",
      "STOCKHOLM\n",
      "\n",
      "Stations missing from pressure:\n",
      "MUNCHENB\n"
     ]
    }
   ],
   "source": [
    "observation_types = ['cloud_cover', 'humidity', 'pressure']\n",
    "\n",
    "missing_stations_by_observation = {}\n",
    "\n",
    "for obs in observation_types:\n",
    "    # Select columns related to the current observation type\n",
    "    columns = [col for col in dfc4.columns if col.endswith(obs)]\n",
    "    \n",
    "    # Extract station names by removing the observation type from the column names\n",
    "    station_names = set([col.replace(f'_{obs}', '') for col in columns])\n",
    "    \n",
    "    # Identify stations that are in all_stations but missing from the current observation type\n",
    "    missing_stations = all_stations - station_names\n",
    "    \n",
    "    # Store the missing station names in the dictionary\n",
    "    missing_stations_by_observation[obs] = missing_stations\n",
    "\n",
    "# Print the missing station names for each observation type\n",
    "for obs, missing_stations in missing_stations_by_observation.items():\n",
    "    print(f\"\\nStations missing from {obs}:\")\n",
    "    if missing_stations:\n",
    "        for station in missing_stations:\n",
    "            print(station)\n",
    "    else:\n",
    "        print(\"None\")"
   ]
  },
  {
   "cell_type": "code",
   "execution_count": 108,
   "id": "ebe58123-809f-49b2-9365-12a7304a00c7",
   "metadata": {},
   "outputs": [
    {
     "data": {
      "text/plain": [
       "53"
      ]
     },
     "execution_count": 108,
     "metadata": {},
     "output_type": "execute_result"
    }
   ],
   "source": [
    "# Get the position of HEATHROW_temp_max to see where we need to position the new KASSEL_cloud_cover  (+1 next to it)\n",
    "\n",
    "dfc4.columns.get_loc('HEATHROW_temp_max')"
   ]
  },
  {
   "cell_type": "code",
   "execution_count": 120,
   "id": "8788403d-e71f-4a0e-a473-5a5cd41c83a5",
   "metadata": {},
   "outputs": [],
   "source": [
    "# Insert new columns into \"unscaled\" at specific positions.\n",
    "# The data for these new columns is copied from other existing columns:\n",
    "# Kassel_cloud_cover with Dusseldorf_cloud_cover\n",
    "# Stockholm_humidity with Oslo_humidity\n",
    "# Munchenb_pressure with Basel_pressure\n",
    "\n",
    "dfc4.insert(54,'KASSEL_cloud_cover', dfc4['DUSSELDORF_cloud_cover'])"
   ]
  },
  {
   "cell_type": "code",
   "execution_count": 124,
   "id": "a3ff8506-ef01-46db-a574-f10565e9eff6",
   "metadata": {},
   "outputs": [
    {
     "data": {
      "text/plain": [
       "116"
      ]
     },
     "execution_count": 124,
     "metadata": {},
     "output_type": "execute_result"
    }
   ],
   "source": [
    "dfc4.columns.get_loc('STOCKHOLM_cloud_cover')"
   ]
  },
  {
   "cell_type": "code",
   "execution_count": 126,
   "id": "ae1abea1-4e7d-4a86-a093-4e0446db0dc4",
   "metadata": {},
   "outputs": [],
   "source": [
    "dfc4.insert(117, 'STOCKHOLM_humidity', dfc4['OSLO_humidity'])"
   ]
  },
  {
   "cell_type": "code",
   "execution_count": 128,
   "id": "4042a4af-6866-49d6-8bd1-c27763758d79",
   "metadata": {},
   "outputs": [
    {
     "data": {
      "text/plain": [
       "91"
      ]
     },
     "execution_count": 128,
     "metadata": {},
     "output_type": "execute_result"
    }
   ],
   "source": [
    "dfc4.columns.get_loc('MUNCHENB_humidity')"
   ]
  },
  {
   "cell_type": "code",
   "execution_count": 130,
   "id": "4120e2d5-f702-4e5c-a448-b55067f50aa0",
   "metadata": {},
   "outputs": [],
   "source": [
    "dfc4.insert(92,'MUNCHENB_pressure',dfc4['BASEL_pressure'])"
   ]
  },
  {
   "cell_type": "code",
   "execution_count": 132,
   "id": "d0ea14f8-f1d8-4fd3-9944-a4e73ac2f2a3",
   "metadata": {},
   "outputs": [
    {
     "data": {
      "text/plain": [
       "['BASEL_cloud_cover',\n",
       " 'BASEL_humidity',\n",
       " 'BASEL_pressure',\n",
       " 'BASEL_global_radiation',\n",
       " 'BASEL_precipitation',\n",
       " 'BASEL_sunshine',\n",
       " 'BASEL_temp_mean',\n",
       " 'BASEL_temp_min',\n",
       " 'BASEL_temp_max',\n",
       " 'BELGRADE_cloud_cover',\n",
       " 'BELGRADE_humidity',\n",
       " 'BELGRADE_pressure',\n",
       " 'BELGRADE_global_radiation',\n",
       " 'BELGRADE_precipitation',\n",
       " 'BELGRADE_sunshine',\n",
       " 'BELGRADE_temp_mean',\n",
       " 'BELGRADE_temp_min',\n",
       " 'BELGRADE_temp_max',\n",
       " 'BUDAPEST_cloud_cover',\n",
       " 'BUDAPEST_humidity',\n",
       " 'BUDAPEST_pressure',\n",
       " 'BUDAPEST_global_radiation',\n",
       " 'BUDAPEST_precipitation',\n",
       " 'BUDAPEST_sunshine',\n",
       " 'BUDAPEST_temp_mean',\n",
       " 'BUDAPEST_temp_min',\n",
       " 'BUDAPEST_temp_max',\n",
       " 'DEBILT_cloud_cover',\n",
       " 'DEBILT_humidity',\n",
       " 'DEBILT_pressure',\n",
       " 'DEBILT_global_radiation',\n",
       " 'DEBILT_precipitation',\n",
       " 'DEBILT_sunshine',\n",
       " 'DEBILT_temp_mean',\n",
       " 'DEBILT_temp_min',\n",
       " 'DEBILT_temp_max',\n",
       " 'DUSSELDORF_cloud_cover',\n",
       " 'DUSSELDORF_humidity',\n",
       " 'DUSSELDORF_pressure',\n",
       " 'DUSSELDORF_global_radiation',\n",
       " 'DUSSELDORF_precipitation',\n",
       " 'DUSSELDORF_sunshine',\n",
       " 'DUSSELDORF_temp_mean',\n",
       " 'DUSSELDORF_temp_min',\n",
       " 'DUSSELDORF_temp_max',\n",
       " 'HEATHROW_cloud_cover',\n",
       " 'HEATHROW_humidity',\n",
       " 'HEATHROW_pressure',\n",
       " 'HEATHROW_global_radiation',\n",
       " 'HEATHROW_precipitation',\n",
       " 'HEATHROW_sunshine',\n",
       " 'HEATHROW_temp_mean',\n",
       " 'HEATHROW_temp_min',\n",
       " 'HEATHROW_temp_max',\n",
       " 'KASSEL_cloud_cover',\n",
       " 'KASSEL_humidity',\n",
       " 'KASSEL_pressure',\n",
       " 'KASSEL_global_radiation',\n",
       " 'KASSEL_precipitation',\n",
       " 'KASSEL_sunshine',\n",
       " 'KASSEL_temp_mean',\n",
       " 'KASSEL_temp_min',\n",
       " 'KASSEL_temp_max',\n",
       " 'LJUBLJANA_cloud_cover',\n",
       " 'LJUBLJANA_humidity',\n",
       " 'LJUBLJANA_pressure',\n",
       " 'LJUBLJANA_global_radiation',\n",
       " 'LJUBLJANA_precipitation',\n",
       " 'LJUBLJANA_sunshine',\n",
       " 'LJUBLJANA_temp_mean',\n",
       " 'LJUBLJANA_temp_min',\n",
       " 'LJUBLJANA_temp_max',\n",
       " 'MAASTRICHT_cloud_cover',\n",
       " 'MAASTRICHT_humidity',\n",
       " 'MAASTRICHT_pressure',\n",
       " 'MAASTRICHT_global_radiation',\n",
       " 'MAASTRICHT_precipitation',\n",
       " 'MAASTRICHT_sunshine',\n",
       " 'MAASTRICHT_temp_mean',\n",
       " 'MAASTRICHT_temp_min',\n",
       " 'MAASTRICHT_temp_max',\n",
       " 'MADRID_cloud_cover',\n",
       " 'MADRID_humidity',\n",
       " 'MADRID_pressure',\n",
       " 'MADRID_global_radiation',\n",
       " 'MADRID_precipitation',\n",
       " 'MADRID_sunshine',\n",
       " 'MADRID_temp_mean',\n",
       " 'MADRID_temp_min',\n",
       " 'MADRID_temp_max',\n",
       " 'MUNCHENB_cloud_cover',\n",
       " 'MUNCHENB_humidity',\n",
       " 'MUNCHENB_pressure',\n",
       " 'MUNCHENB_global_radiation',\n",
       " 'MUNCHENB_precipitation',\n",
       " 'MUNCHENB_sunshine',\n",
       " 'MUNCHENB_temp_mean',\n",
       " 'MUNCHENB_temp_min',\n",
       " 'MUNCHENB_temp_max',\n",
       " 'OSLO_cloud_cover',\n",
       " 'OSLO_humidity',\n",
       " 'OSLO_pressure',\n",
       " 'OSLO_global_radiation',\n",
       " 'OSLO_precipitation',\n",
       " 'OSLO_sunshine',\n",
       " 'OSLO_temp_mean',\n",
       " 'OSLO_temp_min',\n",
       " 'OSLO_temp_max',\n",
       " 'SONNBLICK_cloud_cover',\n",
       " 'SONNBLICK_humidity',\n",
       " 'SONNBLICK_pressure',\n",
       " 'SONNBLICK_global_radiation',\n",
       " 'SONNBLICK_precipitation',\n",
       " 'SONNBLICK_sunshine',\n",
       " 'SONNBLICK_temp_mean',\n",
       " 'SONNBLICK_temp_min',\n",
       " 'SONNBLICK_temp_max',\n",
       " 'STOCKHOLM_cloud_cover',\n",
       " 'STOCKHOLM_humidity',\n",
       " 'STOCKHOLM_pressure',\n",
       " 'STOCKHOLM_global_radiation',\n",
       " 'STOCKHOLM_precipitation',\n",
       " 'STOCKHOLM_sunshine',\n",
       " 'STOCKHOLM_temp_mean',\n",
       " 'STOCKHOLM_temp_min',\n",
       " 'STOCKHOLM_temp_max',\n",
       " 'VALENTIA_cloud_cover',\n",
       " 'VALENTIA_humidity',\n",
       " 'VALENTIA_pressure',\n",
       " 'VALENTIA_global_radiation',\n",
       " 'VALENTIA_precipitation',\n",
       " 'VALENTIA_sunshine',\n",
       " 'VALENTIA_temp_mean',\n",
       " 'VALENTIA_temp_min',\n",
       " 'VALENTIA_temp_max']"
      ]
     },
     "execution_count": 132,
     "metadata": {},
     "output_type": "execute_result"
    }
   ],
   "source": [
    "dfc4.columns.tolist()"
   ]
  },
  {
   "cell_type": "code",
   "execution_count": 134,
   "id": "e6a8b38c-d534-44f1-80f8-35013f19f647",
   "metadata": {},
   "outputs": [
    {
     "data": {
      "text/plain": [
       "(22950, 135)"
      ]
     },
     "execution_count": 134,
     "metadata": {},
     "output_type": "execute_result"
    }
   ],
   "source": [
    "dfc4.shape # observations dataset has the correct shape"
   ]
  },
  {
   "cell_type": "code",
   "execution_count": 136,
   "id": "3a4b100a-aa88-47ea-a95b-4ed254311477",
   "metadata": {},
   "outputs": [],
   "source": [
    "dfp2 = dfp.drop(columns = ['DATE'])"
   ]
  },
  {
   "cell_type": "code",
   "execution_count": 138,
   "id": "379b0b23-5a81-4d50-802a-8fa1d355e56b",
   "metadata": {},
   "outputs": [
    {
     "data": {
      "text/plain": [
       "(22950, 15)"
      ]
     },
     "execution_count": 138,
     "metadata": {},
     "output_type": "execute_result"
    }
   ],
   "source": [
    "dfp2.shape"
   ]
  },
  {
   "cell_type": "markdown",
   "id": "c5e9fe8e-8318-4736-8b39-87c1114acd57",
   "metadata": {},
   "source": [
    "### Both dataframes have the correct shape"
   ]
  },
  {
   "cell_type": "markdown",
   "id": "92291507-61c9-490c-9845-1030fe14df08",
   "metadata": {},
   "source": [
    "## 5. Exporting Data"
   ]
  },
  {
   "cell_type": "code",
   "execution_count": 141,
   "id": "944ec4dc-10f9-4941-b156-6dcb0336e456",
   "metadata": {},
   "outputs": [],
   "source": [
    "# Export cleaned dataset\n",
    "\n",
    "dfc4.to_csv(os.path.join(path, 'wrangled_full.csv'), index=False)"
   ]
  }
 ],
 "metadata": {
  "kernelspec": {
   "display_name": "Python 3 (ipykernel)",
   "language": "python",
   "name": "python3"
  },
  "language_info": {
   "codemirror_mode": {
    "name": "ipython",
    "version": 3
   },
   "file_extension": ".py",
   "mimetype": "text/x-python",
   "name": "python",
   "nbconvert_exporter": "python",
   "pygments_lexer": "ipython3",
   "version": "3.11.7"
  }
 },
 "nbformat": 4,
 "nbformat_minor": 5
}
